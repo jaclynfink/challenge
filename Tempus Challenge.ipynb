{
 "cells": [
  {
   "cell_type": "code",
   "execution_count": 11,
   "metadata": {},
   "outputs": [],
   "source": [
    "import pandas as pd\n",
    "import numpy as np\n",
    "from sklearn.preprocessing import StandardScaler\n",
    "import matplotlib.pyplot as plt\n",
    "from sklearn.decomposition import PCA #Import PCA function"
   ]
  },
  {
   "cell_type": "code",
   "execution_count": 12,
   "metadata": {},
   "outputs": [],
   "source": [
    "data = pd.read_csv(\"./Downloads/data.csv\", index_col=0)"
   ]
  },
  {
   "cell_type": "code",
   "execution_count": 22,
   "metadata": {},
   "outputs": [
    {
     "name": "stdout",
     "output_type": "stream",
     "text": [
      "       normal_01  normal_02  normal_03  normal_04  normal_05  normal_06  \\\n",
      "A1BG          66        291         31         37         85        150   \n",
      "A2BP1        175         10          1          0          1          0   \n",
      "A2LD1       7147        298        207        298        252        251   \n",
      "A2ML1       3762         52         45         19          8         22   \n",
      "A2M           59      86768      87793      81222     103764      68114   \n",
      "\n",
      "       normal_07  normal_08  normal_09  normal_10  ...  cancer_291  \\\n",
      "A1BG          43        108        251        313  ...         487   \n",
      "A2BP1          0          7          1          1  ...           0   \n",
      "A2LD1        281        213        245        274  ...          22   \n",
      "A2ML1          4         95         37         62  ...          15   \n",
      "A2M       101990     105197     144017     132241  ...       14941   \n",
      "\n",
      "       cancer_292  cancer_293  cancer_294  cancer_295  cancer_296  cancer_297  \\\n",
      "A1BG         1042         379         204         657         764         445   \n",
      "A2BP1           0           1           0           0           0           0   \n",
      "A2LD1         144         503         175         257         179         104   \n",
      "A2ML1           3           1         330           2           1           0   \n",
      "A2M        150900       23222       52093       17167       48933       11449   \n",
      "\n",
      "       cancer_298  cancer_299  cancer_300  \n",
      "A1BG          418         230          14  \n",
      "A2BP1           0           2       33569  \n",
      "A2LD1         512         404        6706  \n",
      "A2ML1          12           3        1422  \n",
      "A2M         17790       36102         730  \n",
      "\n",
      "[5 rows x 350 columns]\n"
     ]
    }
   ],
   "source": [
    "print(data.head())\n",
    "#Return the first five rows of data to make sure it was read in correctly"
   ]
  },
  {
   "cell_type": "code",
   "execution_count": 24,
   "metadata": {},
   "outputs": [
    {
     "name": "stdout",
     "output_type": "stream",
     "text": [
      "(17869, 350)\n"
     ]
    }
   ],
   "source": [
    "print(data.shape)"
   ]
  },
  {
   "cell_type": "markdown",
   "metadata": {},
   "source": [
    "Dataset contains 350 Samples, 17,869 genes"
   ]
  },
  {
   "cell_type": "code",
   "execution_count": 40,
   "metadata": {},
   "outputs": [
    {
     "name": "stdout",
     "output_type": "stream",
     "text": [
      "[[-8.99965759e-01  4.13015297e-02  1.30035727e+01 ...  5.67226610e-01\n",
      "  -1.84931310e+00 -5.65682608e-01]\n",
      " [-3.97592528e-01 -5.07932747e-02  9.22069655e-03 ...  7.91408203e-03\n",
      "  -7.47321159e-01  8.93336646e-01]\n",
      " [-9.78112706e-01 -5.58166277e-02 -1.63430206e-01 ...  5.78336764e-03\n",
      "  -8.91932494e-01  1.50563208e-01]\n",
      " ...\n",
      " [-1.14030749e-01 -5.63747780e-02  4.15234907e-01 ...  7.50315854e-02\n",
      "  -6.11413283e-01 -5.28543936e-01]\n",
      " [-5.33791493e-01 -5.52584774e-02  2.10330539e-01 ... -3.52328844e-02\n",
      "   1.61855663e-01 -5.45786891e-01]\n",
      " [-1.01606979e+00  1.86801736e+01  1.21668799e+01 ... -2.08444745e+00\n",
      "   8.19971139e-01  2.04198271e+00]]\n"
     ]
    }
   ],
   "source": [
    "#Center and scale the data so that the means for each gene are 0 and the std devs for each gene are 1. \n",
    "scaled_data = StandardScaler().fit_transform(data.T)\n",
    "print(scaled_data)"
   ]
  },
  {
   "cell_type": "markdown",
   "metadata": {},
   "source": [
    "Pass through the transpose of the data so that the samples are read as columns, and the genes as rows.\n",
    "\n",
    "Ref. https://www.youtube.com/watch?v=Lsue2gEM9D0"
   ]
  },
  {
   "cell_type": "code",
   "execution_count": 27,
   "metadata": {},
   "outputs": [],
   "source": [
    "pca = PCA()"
   ]
  },
  {
   "cell_type": "code",
   "execution_count": 42,
   "metadata": {},
   "outputs": [
    {
     "data": {
      "text/plain": [
       "PCA(copy=True, iterated_power='auto', n_components=None, random_state=None,\n",
       "    svd_solver='auto', tol=0.0, whiten=False)"
      ]
     },
     "execution_count": 42,
     "metadata": {},
     "output_type": "execute_result"
    }
   ],
   "source": [
    "pca.fit(scaled_data)\n",
    "#fit() fits the model by calculating the mean and std. dev"
   ]
  },
  {
   "cell_type": "code",
   "execution_count": 39,
   "metadata": {},
   "outputs": [
    {
     "name": "stdout",
     "output_type": "stream",
     "text": [
      "[[ 6.96167986e+02  3.21600349e+02 -4.23894722e+02 ...  5.36133930e-03\n",
      "   8.10153215e-03 -1.28230759e-13]\n",
      " [-1.23782384e+01  2.63349954e+01 -1.66776437e+00 ...  3.99787828e-01\n",
      "  -6.86151564e-02  3.95516953e-15]\n",
      " [-2.87723489e+01  5.00896456e+01 -8.50717517e-01 ... -1.19726262e-01\n",
      "   1.65646566e-01  1.15463195e-14]\n",
      " ...\n",
      " [-4.57841735e+00 -1.16278295e+01 -4.87721697e-01 ...  1.24052967e-01\n",
      "  -6.65816635e-02  2.95596880e-15]\n",
      " [ 3.27020989e+00 -2.14787064e+01  6.80928170e-01 ... -3.06746340e-02\n",
      "   1.18119753e-02  6.49480469e-15]\n",
      " [ 4.84361018e+02  2.78230731e+02  5.77369189e+02 ... -1.65965070e-03\n",
      "   3.91060897e-03 -4.79616347e-14]]\n"
     ]
    }
   ],
   "source": [
    "pca_data = pca.transform(scaled_data)\n",
    "#transform() uses the parameters calculated by fit() to generate a transformed data set\n",
    "print(pca_data)"
   ]
  },
  {
   "cell_type": "code",
   "execution_count": 32,
   "metadata": {},
   "outputs": [],
   "source": [
    "percent_variation = np.round(pca.explained_variance_ratio_ * 100, decimals=1)\n",
    "#Calculate the percent variation that each principal component accounts for"
   ]
  },
  {
   "cell_type": "code",
   "execution_count": 34,
   "metadata": {},
   "outputs": [],
   "source": [
    "labels = ['PC' + str(x) for x in range(1, len(percent_variation)+1)]"
   ]
  },
  {
   "cell_type": "code",
   "execution_count": 35,
   "metadata": {},
   "outputs": [
    {
     "data": {
      "image/png": "[encoded data removed]",
      "text/plain": [
       "<Figure size 432x288 with 1 Axes>"
      ]
     },
     "metadata": {
      "needs_background": "light"
     },
     "output_type": "display_data"
    }
   ],
   "source": [
    "plt.bar(x=range(1,len(percent_variation)+1), height=percent_variation, tick_label=labels)\n",
    "plt.ylabel('Percentage of Explained Variance')\n",
    "plt.xlabel('Principal Component')\n",
    "plt.title('Scree Plot')\n",
    "plt.show()"
   ]
  },
  {
   "cell_type": "markdown",
   "metadata": {},
   "source": [
    "The most variation in the data is on the left side of the graph with the large bars. Too much data, can't even read the x axis labels!!"
   ]
  },
  {
   "cell_type": "code",
   "execution_count": 43,
   "metadata": {},
   "outputs": [],
   "source": [
    "df = pd.DataFrame(pca_data)"
   ]
  },
  {
   "cell_type": "markdown",
   "metadata": {},
   "source": [
    "Suppose you were given the following preference data from a movie viewing system which contains 100 users\n",
    "and 1 movie. Reported measurements are given as a binary outcome 1- viewed movie, and 0 - did not view the\n",
    "movie (100 measurements total).\n",
    "\n",
    "You are also given features describing each of the users in the following forms:\n",
    "20000 real valued measurements per user\n",
    "600 sparse binary measurements per user\n",
    "3 user types: age 20-30, age 31-40, age 41-50 per user\n",
    "\n",
    "<b>Question 6: How would you find features that are most associated with reported movie viewing?</b>\n",
    "<br>Feature selection techniques in ML can be used to select features that are most closely associated with the desired output. In this case, I would use Univariate Selection to return the most relevant features (which ones are most strongly associated with an outcome of 1). The output will be numerical, and you can even display it as a bar graph to easily understand how the values compare to one another.\n",
    "\n",
    "\n",
    "<b>Question 7: How would you determine if these associations are statistically significant?\n",
    "Suppose we expanded the movie library to include 10 movies. The viewing system reported a 100x10 binary\n",
    "matrix that takes the values {1 - viewed, 0 - not viewed} with 100 rows (one per user) and 10 columns (one per\n",
    "movie). You are also given 50 sparse features describing each one of the movies. </b>\n",
    "\n",
    "<b>Question 8: How would you find combinations of user and movie features that are associated with reported\n",
    "movie viewing across the 10 movies?</b>\n",
    "\n",
    "<b>Question 9: How would you determine if these associations are statistically significant?</b>\n",
    "\n",
    "<b>Question 10: How would you modify your algorithm to deal with a dataset comprising of 1 million users, and\n",
    "10,000 movies?</b>\n"
   ]
  },
  {
   "cell_type": "code",
   "execution_count": null,
   "metadata": {},
   "outputs": [],
   "source": []
  }
 ],
 "metadata": {
  "kernelspec": {
   "display_name": "Python 3",
   "language": "python",
   "name": "python3"
  },
  "language_info": {
   "codemirror_mode": {
    "name": "ipython",
    "version": 3
   },
   "file_extension": ".py",
   "mimetype": "text/x-python",
   "name": "python",
   "nbconvert_exporter": "python",
   "pygments_lexer": "ipython3",
   "version": "3.7.3"
  }
 },
 "nbformat": 4,
 "nbformat_minor": 2
}
